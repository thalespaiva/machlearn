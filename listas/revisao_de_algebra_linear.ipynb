{
 "cells": [
  {
   "cell_type": "markdown",
   "metadata": {},
   "source": [
    "$\\newcommand{R}[0]{\\mathbb{R}}$ \n",
    "# Primeira lista de exercícios - MAC0460/MAC5832\n",
    "\n",
    "##### Igor dos Santos Montagner e Roberto Hirata Jr.\n",
    "\n",
    "###### Data entrega: 23h55m do dia 17/03/2016\n",
    "\n",
    "As instruções para o acesso e instalação das ferramentas necessárias para a resolução dos exercícios abaixo foram previamente postadas no fórum de notícias do PACA.\n",
    "\n",
    "Caso você não tenha anotado algum dos comandos explicados em classe, sugerimos que você faça uma busca no Google com as palavras chaves do que quer realizar. Por exemplo: numpy determinant\n",
    "\n",
    "Recomendamos **fortemente** que você leia a documentação da função encontrada nessa busca.\n",
    "\n",
    "Exercício 0: Edite esta célula do notebook e coloque seu nome e número USP.\n",
    "\n",
    "Exercício 1: Utilizando o *numpy*, crie os seguintes vetores e matrizes ($v \\in \\R^5, A \\in \\R^{5\\times 5}, B \\in \\R^{5\\times 4}$)\n",
    "\n",
    "$$\n",
    "v=\\begin{bmatrix}\n",
    "62\\\\\n",
    "13\\\\\n",
    "84\\\\\n",
    "23\\\\\n",
    "96\\end{bmatrix},\n",
    "A=\\begin{bmatrix}\n",
    "23 & 43 & 34 & 86 & 324 \\\\\n",
    "36& 177 & 435 & 865 & 346 \\\\\n",
    "43 & 546 & 345 & 32 & 86 \\\\\n",
    "45 & 23 & 875  & 452 & 435 \\\\\n",
    "6543 & 32432& 4532 & 489 & 34\\end{bmatrix},\n",
    "B=\\begin{bmatrix}\n",
    "65 & 23& 889 & 34 \\\\\n",
    "12 & 128 & 23 & 85 \\\\\n",
    "44 & 48 & 67 & 895 \\\\\n",
    "97 & 37 & 65 & 867 \\\\\n",
    "22 & 55 & 44 & 33\n",
    "\\end{bmatrix}\n",
    "$$\n",
    "\n"
   ]
  },
  {
   "cell_type": "code",
   "execution_count": null,
   "metadata": {
    "collapsed": false
   },
   "outputs": [],
   "source": []
  },
  {
   "cell_type": "markdown",
   "metadata": {},
   "source": [
    "Imprima abaixo os elementos $v_2, A_{1, 3}$ e $B_{4, 4}$."
   ]
  },
  {
   "cell_type": "code",
   "execution_count": null,
   "metadata": {
    "collapsed": false
   },
   "outputs": [],
   "source": []
  },
  {
   "cell_type": "markdown",
   "metadata": {},
   "source": [
    "Usando a notação de *slices* do Numpy, imprima os elementos 2 a 4 de $v$, a segunda coluna e a terceira linha de $A$ e a submatriz $B$ que vai do elemento $(2,1)$ até o elemento $(3, 4)$."
   ]
  },
  {
   "cell_type": "code",
   "execution_count": null,
   "metadata": {
    "collapsed": false
   },
   "outputs": [],
   "source": []
  },
  {
   "cell_type": "markdown",
   "metadata": {},
   "source": [
    "Calcule o produto interno de $v$ pelo vetor \n",
    "$u = \\begin{bmatrix}\n",
    "4 \\\\\n",
    "23 \\\\\n",
    "44\\\\\n",
    "65\\\\\n",
    "12\n",
    "\\end{bmatrix}$ e as multiplicações $AB, v^TA$ e $B^Tv$."
   ]
  },
  {
   "cell_type": "code",
   "execution_count": null,
   "metadata": {
    "collapsed": false
   },
   "outputs": [],
   "source": []
  },
  {
   "cell_type": "markdown",
   "metadata": {},
   "source": [
    "Calcule o determinantem, os autovalores e os autovetores de $A$. Verifique que os autovetores resultantes são realmente válidos para todos os pares de autovalores/autovetores de $A$."
   ]
  },
  {
   "cell_type": "code",
   "execution_count": null,
   "metadata": {
    "collapsed": false
   },
   "outputs": [],
   "source": []
  },
  {
   "cell_type": "markdown",
   "metadata": {},
   "source": [
    "Verifique se $A$ é invertível. Se sim, inverta-a."
   ]
  },
  {
   "cell_type": "code",
   "execution_count": null,
   "metadata": {
    "collapsed": false
   },
   "outputs": [],
   "source": []
  },
  {
   "cell_type": "markdown",
   "metadata": {},
   "source": [
    "Qual é a relação entre o determinante de $A$ e seus autovalores? Verifique que esta relação é valida para os valores calculados acima. "
   ]
  },
  {
   "cell_type": "code",
   "execution_count": null,
   "metadata": {
    "collapsed": false
   },
   "outputs": [],
   "source": []
  },
  {
   "cell_type": "markdown",
   "metadata": {},
   "source": [
    "Calcule a matrix de Gram $B$ e calcule a matriz quadrada $P$ e a matriz diagonal $S$ de sua diagonalização."
   ]
  },
  {
   "cell_type": "code",
   "execution_count": null,
   "metadata": {
    "collapsed": false
   },
   "outputs": [],
   "source": []
  },
  {
   "cell_type": "markdown",
   "metadata": {},
   "source": [
    "Verifique se $A$ é positiva (semi) definida."
   ]
  },
  {
   "cell_type": "code",
   "execution_count": null,
   "metadata": {
    "collapsed": false
   },
   "outputs": [],
   "source": []
  },
  {
   "cell_type": "markdown",
   "metadata": {},
   "source": [
    "Calcule a decomposição SVD de $B$. Verifique que o vetor $V$ devolvido contém os autovetores da matrix de Gram calculada acima."
   ]
  },
  {
   "cell_type": "code",
   "execution_count": null,
   "metadata": {
    "collapsed": false
   },
   "outputs": [],
   "source": []
  }
 ],
 "metadata": {
  "kernelspec": {
   "display_name": "Python 3",
   "language": "python",
   "name": "python3"
  },
  "language_info": {
   "codemirror_mode": {
    "name": "ipython",
    "version": 3
   },
   "file_extension": ".py",
   "mimetype": "text/x-python",
   "name": "python",
   "nbconvert_exporter": "python",
   "pygments_lexer": "ipython3",
   "version": "3.5.1"
  }
 },
 "nbformat": 4,
 "nbformat_minor": 0
}
