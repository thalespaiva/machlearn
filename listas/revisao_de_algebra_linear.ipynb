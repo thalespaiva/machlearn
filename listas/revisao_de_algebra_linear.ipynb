{
 "cells": [
  {
   "cell_type": "markdown",
   "metadata": {},
   "source": [
    "$\\newcommand{R}[0]{\\mathbb{R}}$ \n",
    "# Resolução da Primeira lista de exercícios - MAC0460/MAC5832\n",
    "\n",
    "##### Professores: Igor dos Santos Montagner e Roberto Hirata Jr.\n",
    "\n",
    "###### Data entrega: 23h55m do dia 17/03/2016\n"
   ]
  },
  {
   "cell_type": "markdown",
   "metadata": {},
   "source": [
    "##### Aluno: Thales A. B Paiva - 7156390 - <thalespaiva@gmail.com>\n",
    "**8/03/2016**\n",
    "\n",
    "*Uma versão atualizada desta resolução pode ser encontrada no meu GitHub, em: https://github.com/thalespaiva/machlearn*.\n",
    "\n",
    "Exercício 1: Utilizando o *numpy*, crie os seguintes vetores e matrizes ($v \\in \\R^5, A \\in \\R^{5\\times 5}, B \\in \\R^{5\\times 4}$)\n",
    "\n",
    "$$\n",
    "v=\\begin{bmatrix}\n",
    "62\\\\\n",
    "13\\\\\n",
    "84\\\\\n",
    "23\\\\\n",
    "96\\end{bmatrix},\n",
    "A=\\begin{bmatrix}\n",
    "23 & 43 & 34 & 86 & 324 \\\\\n",
    "36& 177 & 435 & 865 & 346 \\\\\n",
    "43 & 546 & 345 & 32 & 86 \\\\\n",
    "45 & 23 & 875  & 452 & 435 \\\\\n",
    "6543 & 32432& 4532 & 489 & 34\\end{bmatrix},\n",
    "B=\\begin{bmatrix}\n",
    "65 & 23& 889 & 34 \\\\\n",
    "12 & 128 & 23 & 85 \\\\\n",
    "44 & 48 & 67 & 895 \\\\\n",
    "97 & 37 & 65 & 867 \\\\\n",
    "22 & 55 & 44 & 33\n",
    "\\end{bmatrix}\n",
    "$$\n",
    "\n"
   ]
  },
  {
   "cell_type": "code",
   "execution_count": 1,
   "metadata": {
    "collapsed": false
   },
   "outputs": [],
   "source": [
    "import numpy as np"
   ]
  },
  {
   "cell_type": "code",
   "execution_count": 2,
   "metadata": {
    "collapsed": true
   },
   "outputs": [],
   "source": [
    "v = np.array([62, 13, 84, 23, 96])"
   ]
  },
  {
   "cell_type": "code",
   "execution_count": 3,
   "metadata": {
    "collapsed": true
   },
   "outputs": [],
   "source": [
    "A = np.matrix([ \n",
    "        [23  , 43   , 34  , 86 , 324],\n",
    "        [3   , 177  , 435 , 865, 346],\n",
    "        [43  , 546  , 345 , 32 , 86 ],\n",
    "        [45  , 23   , 875 , 452, 435],\n",
    "        [6543, 32432, 4532, 489, 34 ],\n",
    "    ])"
   ]
  },
  {
   "cell_type": "code",
   "execution_count": 4,
   "metadata": {
    "collapsed": false
   },
   "outputs": [],
   "source": [
    "B = np.matrix([\n",
    "        [65 , 2  , 889, 34 ],\n",
    "        [12 , 128, 23 , 85 ],\n",
    "        [44 , 48 , 67 , 895],\n",
    "        [97 , 37 , 65 , 867],\n",
    "        [22 , 55 , 44 , 33 ],\n",
    "    ])"
   ]
  },
  {
   "cell_type": "markdown",
   "metadata": {},
   "source": [
    "Imprima abaixo os elementos $v_2, A_{1, 3}$ e $B_{4, 4}$."
   ]
  },
  {
   "cell_type": "markdown",
   "metadata": {},
   "source": [
    "*Assumindo que v_i se refere à i-ésima entrada do vetor v*"
   ]
  },
  {
   "cell_type": "code",
   "execution_count": 5,
   "metadata": {
    "collapsed": false
   },
   "outputs": [
    {
     "name": "stdout",
     "output_type": "stream",
     "text": [
      "v[1] =  13\n",
      "A[0][2] =  34\n",
      "B[3][3] =  867\n"
     ]
    }
   ],
   "source": [
    "print('v[1] = ', v[1])\n",
    "print('A[0][2] = ', A[0,2])\n",
    "print('B[3][3] = ', B[3,3])\n"
   ]
  },
  {
   "cell_type": "markdown",
   "metadata": {},
   "source": [
    "Usando a notação de *slices* do Numpy, imprima os elementos 2 a 4 de $v$, a segunda coluna e a terceira linha de $A$ e a submatriz $B$ que vai do elemento $(2,1)$ até o elemento $(3, 4)$."
   ]
  },
  {
   "cell_type": "markdown",
   "metadata": {},
   "source": [
    "*Assumindo que imprimir os elementos de 2 a 4 significa imprimir o segundo, o terceiro e o quarto, inclusive, do vetor.*"
   ]
  },
  {
   "cell_type": "code",
   "execution_count": 6,
   "metadata": {
    "collapsed": false
   },
   "outputs": [
    {
     "name": "stdout",
     "output_type": "stream",
     "text": [
      "[13 84 23]\n"
     ]
    }
   ],
   "source": [
    "print(v[1:4])"
   ]
  },
  {
   "cell_type": "code",
   "execution_count": 7,
   "metadata": {
    "collapsed": false
   },
   "outputs": [
    {
     "name": "stdout",
     "output_type": "stream",
     "text": [
      "[[   43]\n",
      " [  177]\n",
      " [  546]\n",
      " [   23]\n",
      " [32432]]\n"
     ]
    }
   ],
   "source": [
    "print(A[:,1])"
   ]
  },
  {
   "cell_type": "code",
   "execution_count": 8,
   "metadata": {
    "collapsed": false
   },
   "outputs": [
    {
     "name": "stdout",
     "output_type": "stream",
     "text": [
      "[[ 45  23 875 452 435]]\n"
     ]
    }
   ],
   "source": [
    "print(A[3,:])"
   ]
  },
  {
   "cell_type": "code",
   "execution_count": 9,
   "metadata": {
    "collapsed": false
   },
   "outputs": [
    {
     "name": "stdout",
     "output_type": "stream",
     "text": [
      "[[ 12 128  23  85]\n",
      " [ 44  48  67 895]]\n"
     ]
    }
   ],
   "source": [
    "print(B[1:3,0:4])"
   ]
  },
  {
   "cell_type": "markdown",
   "metadata": {},
   "source": [
    "Calcule o produto interno de $v$ pelo vetor \n",
    "$u = \\begin{bmatrix}\n",
    "4 \\\\\n",
    "23 \\\\\n",
    "44\\\\\n",
    "65\\\\\n",
    "12\n",
    "\\end{bmatrix}$ e as multiplicações $AB, v^TA$ e $B^Tv$."
   ]
  },
  {
   "cell_type": "code",
   "execution_count": 10,
   "metadata": {
    "collapsed": false
   },
   "outputs": [],
   "source": [
    "u = np.array([4, 23, 44, 65, 12])"
   ]
  },
  {
   "cell_type": "code",
   "execution_count": 11,
   "metadata": {
    "collapsed": false
   },
   "outputs": [
    {
     "name": "stdout",
     "output_type": "stream",
     "text": [
      "6890\n"
     ]
    }
   ],
   "source": [
    "print(v.dot(u))"
   ]
  },
  {
   "cell_type": "code",
   "execution_count": 12,
   "metadata": {
    "collapsed": false
   },
   "outputs": [
    {
     "name": "stdout",
     "output_type": "stream",
     "text": [
      "[[  18977   28184   43560  120121]\n",
      " [ 112976   94577  107332 1165845]\n",
      " [  29523   92448   79764  387229]\n",
      " [  95115   85683  147679 1192849]\n",
      " [1062068 4401881 6899588 7460407]]\n"
     ]
    }
   ],
   "source": [
    "print(A.dot(B))"
   ]
  },
  {
   "cell_type": "code",
   "execution_count": 13,
   "metadata": {
    "collapsed": false
   },
   "outputs": [
    {
     "name": "stdout",
     "output_type": "stream",
     "text": [
      "[[ 634240 3164832  491940   76605   45079]]\n"
     ]
    }
   ],
   "source": [
    "print(v.dot(A))"
   ]
  },
  {
   "cell_type": "code",
   "execution_count": 14,
   "metadata": {
    "collapsed": false
   },
   "outputs": [
    {
     "name": "stdout",
     "output_type": "stream",
     "text": [
      "[[ 12225]\n",
      " [ 11951]\n",
      " [ 66764]\n",
      " [101502]]\n"
     ]
    }
   ],
   "source": [
    "print(B.T.dot(np.matrix(v).T))"
   ]
  },
  {
   "cell_type": "markdown",
   "metadata": {},
   "source": [
    "Calcule o determinante, os autovalores e os autovetores de $A$. Verifique que os autovetores resultantes são realmente válidos para todos os pares de autovalores/autovetores de $A$."
   ]
  },
  {
   "cell_type": "code",
   "execution_count": 15,
   "metadata": {
    "collapsed": false
   },
   "outputs": [],
   "source": [
    "import numpy.linalg as la"
   ]
  },
  {
   "cell_type": "code",
   "execution_count": 16,
   "metadata": {
    "collapsed": false
   },
   "outputs": [
    {
     "name": "stdout",
     "output_type": "stream",
     "text": [
      "det(A) =  -4.72416476933e+14\n"
     ]
    }
   ],
   "source": [
    "print('det(A) = ', la.det(A))"
   ]
  },
  {
   "cell_type": "code",
   "execution_count": 17,
   "metadata": {
    "collapsed": false
   },
   "outputs": [],
   "source": [
    "eigen_vals, eigen_vecs_transp = la.eig(A)"
   ]
  },
  {
   "cell_type": "code",
   "execution_count": 18,
   "metadata": {
    "collapsed": false
   },
   "outputs": [
    {
     "name": "stdout",
     "output_type": "stream",
     "text": [
      "|A*eigen_vec[0] - eigen_val[0]*eigen_vec[0]| = 0.000000 \n",
      "|A*eigen_vec[1] - eigen_val[1]*eigen_vec[1]| = 0.000000 \n",
      "|A*eigen_vec[2] - eigen_val[2]*eigen_vec[2]| = 0.000000 \n",
      "|A*eigen_vec[3] - eigen_val[3]*eigen_vec[3]| = 0.000000 \n",
      "|A*eigen_vec[4] - eigen_val[4]*eigen_vec[4]| = 0.000000 \n"
     ]
    }
   ],
   "source": [
    "for i, val, vec in zip(range(len(eigen_vals)), eigen_vals, eigen_vecs_transp.T):\n",
    "    diff = A.dot(vec.T) - (val*vec).T\n",
    "    print(\"|A*eigen_vec[%d] - eigen_val[%d]*eigen_vec[%d]| = %.6f \" % (i, i, i, np.linalg.norm(diff)))"
   ]
  },
  {
   "cell_type": "markdown",
   "metadata": {},
   "source": [
    "Verifique se $A$ é invertível. Se sim, inverta-a."
   ]
  },
  {
   "cell_type": "markdown",
   "metadata": {
    "collapsed": false
   },
   "source": [
    "*Já vimos que $det(A) \\neq 0$. Então:*"
   ]
  },
  {
   "cell_type": "code",
   "execution_count": 19,
   "metadata": {
    "collapsed": false
   },
   "outputs": [],
   "source": [
    "Ainv = la.inv(A)"
   ]
  },
  {
   "cell_type": "code",
   "execution_count": 20,
   "metadata": {
    "collapsed": false
   },
   "outputs": [
    {
     "name": "stdout",
     "output_type": "stream",
     "text": [
      "Inversa de A arredondada em .4 :\n",
      " [[-0.0009 -0.0019 -0.0115  0.0045  0.0002]\n",
      " [ 0.0004  0.0004  0.0022 -0.0011 -0.    ]\n",
      " [-0.0013 -0.0005  0.0007  0.0012 -0.    ]\n",
      " [-0.0008  0.0014 -0.0011 -0.0003  0.    ]\n",
      " [ 0.0035 -0.0002  0.0007 -0.0002 -0.    ]]\n"
     ]
    }
   ],
   "source": [
    "print(\"Inversa de A arredondada em .4 :\\n\", Ainv.round(decimals=4))"
   ]
  },
  {
   "cell_type": "markdown",
   "metadata": {},
   "source": [
    "Qual é a relação entre o determinante de $A$ e seus autovalores? Verifique que esta relação é valida para os valores calculados acima. "
   ]
  },
  {
   "cell_type": "markdown",
   "metadata": {
    "collapsed": false
   },
   "source": [
    "*O determinante de uma matriz $A$ é o produto de seus autovalores.*"
   ]
  },
  {
   "cell_type": "code",
   "execution_count": 21,
   "metadata": {
    "collapsed": true
   },
   "outputs": [],
   "source": [
    "def product(elements):\n",
    "    prod = 1\n",
    "    for el in elements:\n",
    "        prod *= el\n",
    "    return prod"
   ]
  },
  {
   "cell_type": "code",
   "execution_count": 22,
   "metadata": {
    "collapsed": false
   },
   "outputs": [
    {
     "data": {
      "text/plain": [
       "0.5625"
      ]
     },
     "execution_count": 22,
     "metadata": {},
     "output_type": "execute_result"
    }
   ],
   "source": [
    "la.norm(product(eigen_vals) - la.det(A))"
   ]
  },
  {
   "cell_type": "markdown",
   "metadata": {},
   "source": [
    "*O fato de a diferença absoluta não ter dado 0 é facilmente explicado pelos erros de arredondamento. Considere a diferença relativa.*"
   ]
  },
  {
   "cell_type": "code",
   "execution_count": 23,
   "metadata": {
    "collapsed": false
   },
   "outputs": [],
   "source": [
    "detA = la.det(A)"
   ]
  },
  {
   "cell_type": "code",
   "execution_count": 24,
   "metadata": {
    "collapsed": true
   },
   "outputs": [],
   "source": [
    "eigen_prod = product(eigen_vals)"
   ]
  },
  {
   "cell_type": "code",
   "execution_count": 25,
   "metadata": {
    "collapsed": false
   },
   "outputs": [
    {
     "name": "stdout",
     "output_type": "stream",
     "text": [
      "(eigen_prod - detA)/detA ~= 0.000000\n"
     ]
    }
   ],
   "source": [
    "print(\"(eigen_prod - detA)/detA ~= %.6f\" % la.norm((eigen_prod - detA)/detA))"
   ]
  },
  {
   "cell_type": "markdown",
   "metadata": {},
   "source": [
    "Calcule a matrix de Gram $B$ e calcule a matriz quadrada $P$ e a matriz diagonal $S$ de sua diagonalização."
   ]
  },
  {
   "cell_type": "markdown",
   "metadata": {},
   "source": [
    "*$Gram(B) = B^TB$, então: *"
   ]
  },
  {
   "cell_type": "code",
   "execution_count": 26,
   "metadata": {
    "collapsed": false
   },
   "outputs": [],
   "source": [
    "GramB = B.T.dot(B)"
   ]
  },
  {
   "cell_type": "code",
   "execution_count": 27,
   "metadata": {
    "collapsed": false
   },
   "outputs": [
    {
     "data": {
      "text/plain": [
       "matrix([[  16198,    8577,   68282,  127435],\n",
       "        [   8577,   23086,   12763,   87802],\n",
       "        [  68282,   12763,  801500,  149953],\n",
       "        [ 127435,   87802,  149953, 1562184]])"
      ]
     },
     "execution_count": 27,
     "metadata": {},
     "output_type": "execute_result"
    }
   ],
   "source": [
    "GramB"
   ]
  },
  {
   "cell_type": "markdown",
   "metadata": {},
   "source": [
    "*Queremos matrizes $P$ e $S$ tais que $Gram(B) = PSP^{-1}$. Uma solução é tomar S a matriz com os autovalores na diagonal principal e P a matriz com os autovetores associados nas colunas.*"
   ]
  },
  {
   "cell_type": "code",
   "execution_count": 28,
   "metadata": {
    "collapsed": true
   },
   "outputs": [],
   "source": [
    "evalues, Ptransp = la.eig(GramB)"
   ]
  },
  {
   "cell_type": "code",
   "execution_count": 29,
   "metadata": {
    "collapsed": true
   },
   "outputs": [],
   "source": [
    "def diagonalize(M):\n",
    "    eigen_values, eigen_vectors_transp = la.eig(M)\n",
    "    S = np.diag(eigen_values)\n",
    "    P = eigen_vectors_transp\n",
    "    return (P, S, la.inv(P))"
   ]
  },
  {
   "cell_type": "code",
   "execution_count": 30,
   "metadata": {
    "collapsed": false
   },
   "outputs": [],
   "source": [
    "P, S, Pinv = diagonalize(GramB)"
   ]
  },
  {
   "cell_type": "code",
   "execution_count": 31,
   "metadata": {
    "collapsed": false
   },
   "outputs": [
    {
     "name": "stdout",
     "output_type": "stream",
     "text": [
      "[[ 1607690.0776        0.            0.            0.    ]\n",
      " [       0.       775425.4403        0.            0.    ]\n",
      " [       0.            0.         1719.3722        0.    ]\n",
      " [       0.            0.            0.        18133.1099]]\n"
     ]
    }
   ],
   "source": [
    "print(S.round(4))"
   ]
  },
  {
   "cell_type": "markdown",
   "metadata": {},
   "source": [
    "Compare $Gram(B)$ com $PSP^{-1}$:"
   ]
  },
  {
   "cell_type": "code",
   "execution_count": 32,
   "metadata": {
    "collapsed": false
   },
   "outputs": [],
   "source": [
    "diff = P.dot(S).dot(Pinv) - GramB"
   ]
  },
  {
   "cell_type": "code",
   "execution_count": 33,
   "metadata": {
    "collapsed": false
   },
   "outputs": [
    {
     "name": "stdout",
     "output_type": "stream",
     "text": [
      "[[ 0.  0.  0.  0.]\n",
      " [-0.  0. -0. -0.]\n",
      " [ 0. -0.  0. -0.]\n",
      " [-0. -0.  0.  0.]]\n"
     ]
    }
   ],
   "source": [
    "print(diff.round(6))"
   ]
  },
  {
   "cell_type": "markdown",
   "metadata": {},
   "source": [
    "Verifique se $A$ é positiva (semi) definida."
   ]
  },
  {
   "cell_type": "markdown",
   "metadata": {},
   "source": [
    "*Uma matriz é definida positiva se e somente se admite uma decomposição de Cholesky.*"
   ]
  },
  {
   "cell_type": "code",
   "execution_count": 34,
   "metadata": {
    "collapsed": false
   },
   "outputs": [
    {
     "name": "stdout",
     "output_type": "stream",
     "text": [
      "A não é semidefinida positiva.\n"
     ]
    }
   ],
   "source": [
    "try:\n",
    "    la.cholesky(A)\n",
    "    print('A é semidefinida positiva.')\n",
    "except la.LinAlgError:\n",
    "    print('A não é semidefinida positiva.')"
   ]
  },
  {
   "cell_type": "markdown",
   "metadata": {},
   "source": [
    "Calcule a decomposição SVD de $B$. Verifique que o vetor $V$ devolvido contém os autovetores da matrix de Gram calculada acima."
   ]
  },
  {
   "cell_type": "code",
   "execution_count": 35,
   "metadata": {
    "collapsed": false
   },
   "outputs": [],
   "source": [
    "U, s, V = la.svd(B, full_matrices=True)"
   ]
  },
  {
   "cell_type": "markdown",
   "metadata": {},
   "source": [
    "*Compare as colunas de $V^T$ e P. Note que, a menos da ordem em que aparecem, e de direção, são os mesmos vetores:*"
   ]
  },
  {
   "cell_type": "code",
   "execution_count": 36,
   "metadata": {
    "collapsed": false
   },
   "outputs": [
    {
     "data": {
      "text/plain": [
       "matrix([[ 0.08662811, -0.05527972,  0.06166129,  0.99279283],\n",
       "        [ 0.05609836,  0.00551247,  0.99619555, -0.06646067],\n",
       "        [ 0.18983336, -0.97923331, -0.00997274, -0.0704696 ],\n",
       "        [ 0.9763769 ,  0.19497664, -0.06076893, -0.07056491]])"
      ]
     },
     "execution_count": 36,
     "metadata": {},
     "output_type": "execute_result"
    }
   ],
   "source": [
    "V.T"
   ]
  },
  {
   "cell_type": "code",
   "execution_count": 37,
   "metadata": {
    "collapsed": false
   },
   "outputs": [
    {
     "data": {
      "text/plain": [
       "matrix([[-0.08662811,  0.05527972, -0.99279283, -0.06166129],\n",
       "        [-0.05609836, -0.00551247,  0.06646067, -0.99619555],\n",
       "        [-0.18983336,  0.97923331,  0.0704696 ,  0.00997274],\n",
       "        [-0.9763769 , -0.19497664,  0.07056491,  0.06076893]])"
      ]
     },
     "execution_count": 37,
     "metadata": {},
     "output_type": "execute_result"
    }
   ],
   "source": [
    "P"
   ]
  }
 ],
 "metadata": {
  "kernelspec": {
   "display_name": "Python 3",
   "language": "python",
   "name": "python3"
  },
  "language_info": {
   "codemirror_mode": {
    "name": "ipython",
    "version": 3
   },
   "file_extension": ".py",
   "mimetype": "text/x-python",
   "name": "python",
   "nbconvert_exporter": "python",
   "pygments_lexer": "ipython3",
   "version": "3.5.1"
  }
 },
 "nbformat": 4,
 "nbformat_minor": 0
}
